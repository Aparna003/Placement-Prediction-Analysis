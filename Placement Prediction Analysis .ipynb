{
 "cells": [
  {
   "cell_type": "markdown",
   "id": "f864e1e2",
   "metadata": {},
   "source": [
    "# Title of the project: Placement Prediction Analysis\n",
    "\n",
    "\n",
    "\n",
    "# Team Members: \n",
    "Anantha Narayanan S V (E0119008)\n",
    "\n",
    "Aparna S (E0119020)\n",
    "\n",
    "Anbu Ezhilmathi Nambi (E0119053)              \n",
    "\n",
    "\n",
    "# Problem Statement:\n",
    "Analysis and predict whether a \n",
    "student gets placed or not based on stream, cgpa, internships \n",
    "and other factors\n",
    "\n",
    "# Data Description :\n",
    "The Collegeplacement data gives us the student informations such as  Age,Gender           their stream,no.of internships,their CGPA,and if they are in hostel or not.\n",
    "\n",
    "# Software Requirements and Platforms used: \n",
    "*   OS: Windows\n",
    "*   Platforms: Google Collab, Jupyter Notebook\n",
    "*   Language Used : R Language.\n",
    "\n",
    "\n"
   ]
  },
  {
   "cell_type": "markdown",
   "id": "9950d56d",
   "metadata": {},
   "source": [
    "## CO1 : Know your Data "
   ]
  },
  {
   "cell_type": "markdown",
   "id": "21733a3b",
   "metadata": {},
   "source": [
    "#### Packages Used "
   ]
  },
  {
   "cell_type": "code",
   "execution_count": 1,
   "id": "b089e7e6",
   "metadata": {},
   "outputs": [],
   "source": [
    "# install.packages(\"psych\")\n",
    "# install.packages('dplyr')\n",
    "# install.packages('tidyr')\n",
    "# install.packages('ggplot2')\n",
    "# install.packages('lubridate')\n",
    "# install.packages('highcharter')\n",
    "# install.packages('scales')\n",
    "# install.packages(\"Hmisc\")\n",
    "# install.packages(\"performance\")\n",
    "# install.packages(\"caret\")\n",
    "# install.packages(\"corrplot\")\n",
    "# Installing the package\n",
    "# For Logistic regression\n",
    "# install.packages(\"caTools\")    \n",
    "\n",
    "# For ROC curve to evaluate model\n",
    "# install.packages(\"ROCR\")       \n",
    "    "
   ]
  },
  {
   "cell_type": "code",
   "execution_count": 2,
   "id": "de13fc24",
   "metadata": {},
   "outputs": [
    {
     "name": "stderr",
     "output_type": "stream",
     "text": [
      "Warning message:\n",
      "\"package 'dplyr' was built under R version 3.6.3\"\n",
      "Attaching package: 'dplyr'\n",
      "\n",
      "The following objects are masked from 'package:stats':\n",
      "\n",
      "    filter, lag\n",
      "\n",
      "The following objects are masked from 'package:base':\n",
      "\n",
      "    intersect, setdiff, setequal, union\n",
      "\n",
      "Warning message:\n",
      "\"package 'tidyr' was built under R version 3.6.3\"Warning message:\n",
      "\"package 'highcharter' was built under R version 3.6.3\"Registered S3 method overwritten by 'xts':\n",
      "  method     from\n",
      "  as.zoo.xts zoo \n",
      "Registered S3 method overwritten by 'quantmod':\n",
      "  method            from\n",
      "  as.zoo.data.frame zoo \n",
      "Highcharts (www.highcharts.com) is a Highsoft software product which is\n",
      "not free for commercial and Governmental use\n",
      "Warning message:\n",
      "\"package 'scales' was built under R version 3.6.3\"\n",
      "Attaching package: 'psych'\n",
      "\n",
      "The following objects are masked from 'package:scales':\n",
      "\n",
      "    alpha, rescale\n",
      "\n",
      "The following objects are masked from 'package:ggplot2':\n",
      "\n",
      "    %+%, alpha\n",
      "\n",
      "Warning message:\n",
      "\"package 'Hmisc' was built under R version 3.6.3\"Loading required package: lattice\n",
      "Loading required package: survival\n",
      "Warning message:\n",
      "\"package 'survival' was built under R version 3.6.3\"Loading required package: Formula\n",
      "Warning message:\n",
      "\"package 'Formula' was built under R version 3.6.3\"\n",
      "Attaching package: 'Hmisc'\n",
      "\n",
      "The following object is masked from 'package:psych':\n",
      "\n",
      "    describe\n",
      "\n",
      "The following objects are masked from 'package:dplyr':\n",
      "\n",
      "    src, summarize\n",
      "\n",
      "The following objects are masked from 'package:base':\n",
      "\n",
      "    format.pval, units\n",
      "\n",
      "Warning message:\n",
      "\"package 'caret' was built under R version 3.6.3\"\n",
      "Attaching package: 'caret'\n",
      "\n",
      "The following object is masked from 'package:survival':\n",
      "\n",
      "    cluster\n",
      "\n",
      "corrplot 0.90 loaded\n",
      "Warning message:\n",
      "\"package 'caTools' was built under R version 3.6.3\""
     ]
    }
   ],
   "source": [
    "library('dplyr') # we are using this for filter()\n",
    "library('tidyr') # we are using this for data manipulation, exploration and visualization\n",
    "library('ggplot2') # we are using this to visualize graphs\n",
    "library('highcharter') # we are using this for piping style and also for visualizing various charts\n",
    "library('scales')\n",
    "library('psych')# we are using this for analyzing data at multiple levels include within and between group statistics, including correlations and factor analysis.\n",
    "library('Hmisc')\n",
    "library('caret')\n",
    "library(\"corrplot\")\n",
    "library('caTools')"
   ]
  },
  {
   "cell_type": "code",
   "execution_count": 3,
   "id": "2c35f5e1",
   "metadata": {},
   "outputs": [
    {
     "data": {
      "text/html": [
       "<table>\n",
       "<thead><tr><th scope=col>Age</th><th scope=col>Gender</th><th scope=col>Stream</th><th scope=col>Internships</th><th scope=col>CGPA</th><th scope=col>Hostel</th><th scope=col>HistoryOfBacklogs</th><th scope=col>PlacedOrNot</th></tr></thead>\n",
       "<tbody>\n",
       "\t<tr><td>22                           </td><td>Male                         </td><td>Electronics And Communication</td><td>1                            </td><td>8                            </td><td>1                            </td><td>Yes                          </td><td>Yes                          </td></tr>\n",
       "\t<tr><td>21                           </td><td>Female                       </td><td>Computer Science             </td><td>0                            </td><td>7                            </td><td>1                            </td><td>Yes                          </td><td>Yes                          </td></tr>\n",
       "\t<tr><td>22                           </td><td>Female                       </td><td>Information Technology       </td><td>1                            </td><td>6                            </td><td>0                            </td><td>No                           </td><td>Yes                          </td></tr>\n",
       "\t<tr><td>21                           </td><td>Male                         </td><td>Information Technology       </td><td>0                            </td><td>8                            </td><td>0                            </td><td>Yes                          </td><td>Yes                          </td></tr>\n",
       "\t<tr><td>22                           </td><td>Male                         </td><td>Mechanical                   </td><td>0                            </td><td>8                            </td><td>1                            </td><td>No                           </td><td>Yes                          </td></tr>\n",
       "\t<tr><td>22                           </td><td>Male                         </td><td>Electronics And Communication</td><td>0                            </td><td>6                            </td><td>0                            </td><td>No                           </td><td>No                           </td></tr>\n",
       "</tbody>\n",
       "</table>\n"
      ],
      "text/latex": [
       "\\begin{tabular}{r|llllllll}\n",
       " Age & Gender & Stream & Internships & CGPA & Hostel & HistoryOfBacklogs & PlacedOrNot\\\\\n",
       "\\hline\n",
       "\t 22                            & Male                          & Electronics And Communication & 1                             & 8                             & 1                             & Yes                           & Yes                          \\\\\n",
       "\t 21                            & Female                        & Computer Science              & 0                             & 7                             & 1                             & Yes                           & Yes                          \\\\\n",
       "\t 22                            & Female                        & Information Technology        & 1                             & 6                             & 0                             & No                            & Yes                          \\\\\n",
       "\t 21                            & Male                          & Information Technology        & 0                             & 8                             & 0                             & Yes                           & Yes                          \\\\\n",
       "\t 22                            & Male                          & Mechanical                    & 0                             & 8                             & 1                             & No                            & Yes                          \\\\\n",
       "\t 22                            & Male                          & Electronics And Communication & 0                             & 6                             & 0                             & No                            & No                           \\\\\n",
       "\\end{tabular}\n"
      ],
      "text/markdown": [
       "\n",
       "| Age | Gender | Stream | Internships | CGPA | Hostel | HistoryOfBacklogs | PlacedOrNot |\n",
       "|---|---|---|---|---|---|---|---|\n",
       "| 22                            | Male                          | Electronics And Communication | 1                             | 8                             | 1                             | Yes                           | Yes                           |\n",
       "| 21                            | Female                        | Computer Science              | 0                             | 7                             | 1                             | Yes                           | Yes                           |\n",
       "| 22                            | Female                        | Information Technology        | 1                             | 6                             | 0                             | No                            | Yes                           |\n",
       "| 21                            | Male                          | Information Technology        | 0                             | 8                             | 0                             | Yes                           | Yes                           |\n",
       "| 22                            | Male                          | Mechanical                    | 0                             | 8                             | 1                             | No                            | Yes                           |\n",
       "| 22                            | Male                          | Electronics And Communication | 0                             | 6                             | 0                             | No                            | No                            |\n",
       "\n"
      ],
      "text/plain": [
       "  Age Gender Stream                        Internships CGPA Hostel\n",
       "1 22  Male   Electronics And Communication 1           8    1     \n",
       "2 21  Female Computer Science              0           7    1     \n",
       "3 22  Female Information Technology        1           6    0     \n",
       "4 21  Male   Information Technology        0           8    0     \n",
       "5 22  Male   Mechanical                    0           8    1     \n",
       "6 22  Male   Electronics And Communication 0           6    0     \n",
       "  HistoryOfBacklogs PlacedOrNot\n",
       "1 Yes               Yes        \n",
       "2 Yes               Yes        \n",
       "3 No                Yes        \n",
       "4 Yes               Yes        \n",
       "5 No                Yes        \n",
       "6 No                No         "
      ]
     },
     "metadata": {},
     "output_type": "display_data"
    }
   ],
   "source": [
    "#Import the dataset \n",
    "placement = read.csv(\"collegePlace.csv\")\n",
    "head(placement)"
   ]
  },
  {
   "cell_type": "code",
   "execution_count": 4,
   "id": "49576da9",
   "metadata": {},
   "outputs": [
    {
     "data": {
      "text/html": [
       "<dl>\n",
       "\t<dt>$Age</dt>\n",
       "\t\t<dd>0</dd>\n",
       "\t<dt>$Gender</dt>\n",
       "\t\t<dd>0</dd>\n",
       "\t<dt>$Stream</dt>\n",
       "\t\t<dd>0</dd>\n",
       "\t<dt>$Internships</dt>\n",
       "\t\t<dd>0</dd>\n",
       "\t<dt>$CGPA</dt>\n",
       "\t\t<dd>0</dd>\n",
       "\t<dt>$Hostel</dt>\n",
       "\t\t<dd>0</dd>\n",
       "\t<dt>$HistoryOfBacklogs</dt>\n",
       "\t\t<dd>0</dd>\n",
       "\t<dt>$PlacedOrNot</dt>\n",
       "\t\t<dd>0</dd>\n",
       "</dl>\n"
      ],
      "text/latex": [
       "\\begin{description}\n",
       "\\item[\\$Age] 0\n",
       "\\item[\\$Gender] 0\n",
       "\\item[\\$Stream] 0\n",
       "\\item[\\$Internships] 0\n",
       "\\item[\\$CGPA] 0\n",
       "\\item[\\$Hostel] 0\n",
       "\\item[\\$HistoryOfBacklogs] 0\n",
       "\\item[\\$PlacedOrNot] 0\n",
       "\\end{description}\n"
      ],
      "text/markdown": [
       "$Age\n",
       ":   0\n",
       "$Gender\n",
       ":   0\n",
       "$Stream\n",
       ":   0\n",
       "$Internships\n",
       ":   0\n",
       "$CGPA\n",
       ":   0\n",
       "$Hostel\n",
       ":   0\n",
       "$HistoryOfBacklogs\n",
       ":   0\n",
       "$PlacedOrNot\n",
       ":   0\n",
       "\n",
       "\n"
      ],
      "text/plain": [
       "$Age\n",
       "[1] 0\n",
       "\n",
       "$Gender\n",
       "[1] 0\n",
       "\n",
       "$Stream\n",
       "[1] 0\n",
       "\n",
       "$Internships\n",
       "[1] 0\n",
       "\n",
       "$CGPA\n",
       "[1] 0\n",
       "\n",
       "$Hostel\n",
       "[1] 0\n",
       "\n",
       "$HistoryOfBacklogs\n",
       "[1] 0\n",
       "\n",
       "$PlacedOrNot\n",
       "[1] 0\n"
      ]
     },
     "metadata": {},
     "output_type": "display_data"
    }
   ],
   "source": [
    "#Check and displaying any null values present in the dataset\n",
    "lapply(placement,function(x) { length(which(is.na(x)))})"
   ]
  },
  {
   "cell_type": "markdown",
   "id": "a1d349f0",
   "metadata": {},
   "source": [
    "#### To know the attribute types"
   ]
  },
  {
   "cell_type": "code",
   "execution_count": 5,
   "id": "35dd4431",
   "metadata": {},
   "outputs": [
    {
     "data": {
      "text/html": [
       "<dl class=dl-horizontal>\n",
       "\t<dt>Age</dt>\n",
       "\t\t<dd>'integer'</dd>\n",
       "\t<dt>Gender</dt>\n",
       "\t\t<dd>'factor'</dd>\n",
       "\t<dt>Stream</dt>\n",
       "\t\t<dd>'factor'</dd>\n",
       "\t<dt>Internships</dt>\n",
       "\t\t<dd>'integer'</dd>\n",
       "\t<dt>CGPA</dt>\n",
       "\t\t<dd>'integer'</dd>\n",
       "\t<dt>Hostel</dt>\n",
       "\t\t<dd>'integer'</dd>\n",
       "\t<dt>HistoryOfBacklogs</dt>\n",
       "\t\t<dd>'factor'</dd>\n",
       "\t<dt>PlacedOrNot</dt>\n",
       "\t\t<dd>'factor'</dd>\n",
       "</dl>\n"
      ],
      "text/latex": [
       "\\begin{description*}\n",
       "\\item[Age] 'integer'\n",
       "\\item[Gender] 'factor'\n",
       "\\item[Stream] 'factor'\n",
       "\\item[Internships] 'integer'\n",
       "\\item[CGPA] 'integer'\n",
       "\\item[Hostel] 'integer'\n",
       "\\item[HistoryOfBacklogs] 'factor'\n",
       "\\item[PlacedOrNot] 'factor'\n",
       "\\end{description*}\n"
      ],
      "text/markdown": [
       "Age\n",
       ":   'integer'Gender\n",
       ":   'factor'Stream\n",
       ":   'factor'Internships\n",
       ":   'integer'CGPA\n",
       ":   'integer'Hostel\n",
       ":   'integer'HistoryOfBacklogs\n",
       ":   'factor'PlacedOrNot\n",
       ":   'factor'\n",
       "\n"
      ],
      "text/plain": [
       "              Age            Gender            Stream       Internships \n",
       "        \"integer\"          \"factor\"          \"factor\"         \"integer\" \n",
       "             CGPA            Hostel HistoryOfBacklogs       PlacedOrNot \n",
       "        \"integer\"         \"integer\"          \"factor\"          \"factor\" "
      ]
     },
     "metadata": {},
     "output_type": "display_data"
    }
   ],
   "source": [
    "sapply(placement,'class')"
   ]
  },
  {
   "cell_type": "code",
   "execution_count": 6,
   "id": "41c3ccfa",
   "metadata": {},
   "outputs": [
    {
     "data": {
      "text/plain": [
       "placement \n",
       "\n",
       " 8  Variables      2966  Observations\n",
       "--------------------------------------------------------------------------------\n",
       "Age \n",
       "       n  missing distinct     Info     Mean      Gmd      .05      .10 \n",
       "    2966        0       11    0.917    21.49    1.363       19       20 \n",
       "     .25      .50      .75      .90      .95 \n",
       "      21       21       22       23       24 \n",
       "\n",
       "lowest : 19 20 21 22 23, highest: 25 26 28 29 30\n",
       "                                                                            \n",
       "Value         19    20    21    22    23    24    25    26    28    29    30\n",
       "Frequency    156   375  1084   941   195   131    29    50     3     1     1\n",
       "Proportion 0.053 0.126 0.365 0.317 0.066 0.044 0.010 0.017 0.001 0.000 0.000\n",
       "--------------------------------------------------------------------------------\n",
       "Gender \n",
       "       n  missing distinct \n",
       "    2966        0        2 \n",
       "                        \n",
       "Value      Female   Male\n",
       "Frequency     491   2475\n",
       "Proportion  0.166  0.834\n",
       "--------------------------------------------------------------------------------\n",
       "Stream \n",
       "       n  missing distinct \n",
       "    2966        0        6 \n",
       "\n",
       "lowest : Civil                         Computer Science              Electrical                    Electronics And Communication Information Technology       \n",
       "highest: Computer Science              Electrical                    Electronics And Communication Information Technology        Mechanical                   \n",
       "\n",
       "Civil (317, 0.107), Computer Science (776, 0.262), Electrical (334, 0.113),\n",
       "Electronics And Communication (424, 0.143), Information Technology (691,\n",
       "0.233), Mechanical (424, 0.143)\n",
       "--------------------------------------------------------------------------------\n",
       "Internships \n",
       "       n  missing distinct     Info     Mean      Gmd \n",
       "    2966        0        4    0.836   0.7036   0.7626 \n",
       "                                  \n",
       "Value          0     1     2     3\n",
       "Frequency   1331  1234   350    51\n",
       "Proportion 0.449 0.416 0.118 0.017\n",
       "--------------------------------------------------------------------------------\n",
       "CGPA \n",
       "       n  missing distinct     Info     Mean      Gmd \n",
       "    2966        0        5    0.915    7.074    1.062 \n",
       "\n",
       "lowest : 5 6 7 8 9, highest: 5 6 7 8 9\n",
       "                                        \n",
       "Value          5     6     7     8     9\n",
       "Frequency     96   834   956   915   165\n",
       "Proportion 0.032 0.281 0.322 0.308 0.056\n",
       "--------------------------------------------------------------------------------\n",
       "Hostel \n",
       "       n  missing distinct     Info      Sum     Mean      Gmd \n",
       "    2966        0        2     0.59      798    0.269   0.3935 \n",
       "\n",
       "--------------------------------------------------------------------------------\n",
       "HistoryOfBacklogs \n",
       "       n  missing distinct \n",
       "    2966        0        2 \n",
       "                      \n",
       "Value         No   Yes\n",
       "Frequency   2396   570\n",
       "Proportion 0.808 0.192\n",
       "--------------------------------------------------------------------------------\n",
       "PlacedOrNot \n",
       "       n  missing distinct \n",
       "    2966        0        2 \n",
       "                      \n",
       "Value         No   Yes\n",
       "Frequency   1327  1639\n",
       "Proportion 0.447 0.553\n",
       "--------------------------------------------------------------------------------"
      ]
     },
     "metadata": {},
     "output_type": "display_data"
    }
   ],
   "source": [
    "#using the psych library\n",
    "#describe(): this function gives the statistical summary of the data\n",
    "library(psych)\n",
    "describe(placement)"
   ]
  },
  {
   "cell_type": "code",
   "execution_count": 7,
   "id": "6a9f8a80",
   "metadata": {},
   "outputs": [
    {
     "data": {
      "text/plain": [
       "      Age           Gender                               Stream   \n",
       " Min.   :19.00   Female: 491   Civil                        :317  \n",
       " 1st Qu.:21.00   Male  :2475   Computer Science             :776  \n",
       " Median :21.00                 Electrical                   :334  \n",
       " Mean   :21.49                 Electronics And Communication:424  \n",
       " 3rd Qu.:22.00                 Information Technology       :691  \n",
       " Max.   :30.00                 Mechanical                   :424  \n",
       "  Internships          CGPA           Hostel      HistoryOfBacklogs PlacedOrNot\n",
       " Min.   :0.0000   Min.   :5.000   Min.   :0.000   No :2396          No :1327   \n",
       " 1st Qu.:0.0000   1st Qu.:6.000   1st Qu.:0.000   Yes: 570          Yes:1639   \n",
       " Median :1.0000   Median :7.000   Median :0.000                                \n",
       " Mean   :0.7036   Mean   :7.074   Mean   :0.269                                \n",
       " 3rd Qu.:1.0000   3rd Qu.:8.000   3rd Qu.:1.000                                \n",
       " Max.   :3.0000   Max.   :9.000   Max.   :1.000                                "
      ]
     },
     "metadata": {},
     "output_type": "display_data"
    }
   ],
   "source": [
    "#summary():this command provides summary of the data like min,max and quantile.\n",
    "summary(placement)"
   ]
  },
  {
   "cell_type": "code",
   "execution_count": 8,
   "id": "6b289233",
   "metadata": {},
   "outputs": [
    {
     "data": {
      "text/html": [
       "<ol class=list-inline>\n",
       "\t<li>2966</li>\n",
       "\t<li>8</li>\n",
       "</ol>\n"
      ],
      "text/latex": [
       "\\begin{enumerate*}\n",
       "\\item 2966\n",
       "\\item 8\n",
       "\\end{enumerate*}\n"
      ],
      "text/markdown": [
       "1. 2966\n",
       "2. 8\n",
       "\n",
       "\n"
      ],
      "text/plain": [
       "[1] 2966    8"
      ]
     },
     "metadata": {},
     "output_type": "display_data"
    }
   ],
   "source": [
    "#dim(): this is a inbuilt function which gives us the dimention of the matrix, array or data frame.\n",
    "dim(placement)"
   ]
  },
  {
   "cell_type": "code",
   "execution_count": 9,
   "id": "7b6d702b",
   "metadata": {},
   "outputs": [
    {
     "name": "stdout",
     "output_type": "stream",
     "text": [
      "'data.frame':\t2966 obs. of  8 variables:\n",
      " $ Age              : int  22 21 22 21 22 22 21 21 21 21 ...\n",
      " $ Gender           : Factor w/ 2 levels \"Female\",\"Male\": 2 1 1 2 2 2 2 2 2 1 ...\n",
      " $ Stream           : Factor w/ 6 levels \"Civil\",\"Computer Science\",..: 4 2 5 5 6 4 2 5 2 2 ...\n",
      " $ Internships      : int  1 0 1 0 0 0 0 1 2 1 ...\n",
      " $ CGPA             : int  8 7 6 8 8 6 7 7 6 6 ...\n",
      " $ Hostel           : int  1 1 0 0 1 0 0 0 0 1 ...\n",
      " $ HistoryOfBacklogs: Factor w/ 2 levels \"No\",\"Yes\": 2 2 1 2 1 1 2 1 1 1 ...\n",
      " $ PlacedOrNot      : Factor w/ 2 levels \"No\",\"Yes\": 2 2 2 2 2 1 1 1 2 1 ...\n"
     ]
    }
   ],
   "source": [
    "#str(): this is a inbuilt function which gives us information about the columns like class and intial observations.\n",
    "str(placement)"
   ]
  },
  {
   "cell_type": "markdown",
   "id": "eee42cb2",
   "metadata": {},
   "source": [
    "#### Five number summary of CGPA"
   ]
  },
  {
   "cell_type": "code",
   "execution_count": 10,
   "id": "15f03ffb",
   "metadata": {},
   "outputs": [
    {
     "data": {
      "image/png": "[encoded data removed]",
      "text/plain": [
       "plot without title"
      ]
     },
     "metadata": {},
     "output_type": "display_data"
    }
   ],
   "source": [
    "# This gives the visual summary of the mean median valuse and the disperrsion of the cgpa they aslo show us the skewness.\n",
    "par(mfrow= c(1,2))\n",
    "boxplot(placement$CGPA)\n",
    "abline(h=min(placement$CGPA),col='Red')\n",
    "abline(h=median(placement$CGPA),col='yellow')\n",
    "abline(h=max(placement$CGPA),col=\"Green\")\n",
    "abline(h=quantile(placement$CGPA,\n",
    "                  c(0.25,0.75)), col= \"Blue\")"
   ]
  },
  {
   "cell_type": "markdown",
   "id": "37c6a63c",
   "metadata": {},
   "source": [
    "#### Total male and female students "
   ]
  },
  {
   "cell_type": "code",
   "execution_count": 11,
   "id": "a8c2aecd",
   "metadata": {},
   "outputs": [
    {
     "data": {
      "text/plain": [
       "\n",
       "Female   Male \n",
       "   491   2475 "
      ]
     },
     "metadata": {},
     "output_type": "display_data"
    }
   ],
   "source": [
    "#table() function in R Language is used to create a categorical representation of data with variable name and the frequency in the form of a table\n",
    "class <-table(placement$Gender)\n",
    "class"
   ]
  },
  {
   "cell_type": "code",
   "execution_count": 12,
   "id": "f73b5d68",
   "metadata": {},
   "outputs": [
    {
     "data": {
      "image/png": "[encoded data removed]",
      "text/plain": [
       "Plot with title \"Total male and female students\""
      ]
     },
     "metadata": {},
     "output_type": "display_data"
    }
   ],
   "source": [
    "barplot(class, c(\"#FF6666\",\"#3399ff\"),main=\"Total male and female students\", xlab=\"Gender\",ylab=\"Count\")"
   ]
  },
  {
   "cell_type": "markdown",
   "id": "9939a002",
   "metadata": {},
   "source": [
    "#### Age and no.of students"
   ]
  },
  {
   "cell_type": "code",
   "execution_count": 13,
   "id": "55623e58",
   "metadata": {},
   "outputs": [
    {
     "data": {
      "text/plain": [
       "\n",
       "  19   20   21   22   23   24   25   26   28   29   30 \n",
       " 156  375 1084  941  195  131   29   50    3    1    1 "
      ]
     },
     "metadata": {},
     "output_type": "display_data"
    }
   ],
   "source": [
    "#Age frequency table : No of students in each age group is shown below:\n",
    "age=table(placement$Age)\n",
    "age"
   ]
  },
  {
   "cell_type": "code",
   "execution_count": 14,
   "id": "a0c629f4",
   "metadata": {},
   "outputs": [
    {
     "data": {
      "image/png": "[encoded data removed]",
      "text/plain": [
       "Plot with title \"Age and no.of students\""
      ]
     },
     "metadata": {},
     "output_type": "display_data"
    }
   ],
   "source": [
    "barplot(age,xlab=\"Age\",ylab=\"Count\", main=\"Age and no.of students\",col=\"#FFCCCC\")"
   ]
  },
  {
   "cell_type": "markdown",
   "id": "e9bb3308",
   "metadata": {},
   "source": [
    "#### No.of students in each streams"
   ]
  },
  {
   "cell_type": "code",
   "execution_count": 15,
   "id": "c73276ea",
   "metadata": {},
   "outputs": [
    {
     "data": {
      "text/plain": [
       "\n",
       "                        Civil              Computer Science \n",
       "                          317                           776 \n",
       "                   Electrical Electronics And Communication \n",
       "                          334                           424 \n",
       "       Information Technology                    Mechanical \n",
       "                          691                           424 "
      ]
     },
     "metadata": {},
     "output_type": "display_data"
    }
   ],
   "source": [
    "stream=table(placement$Stream)\n",
    "stream"
   ]
  },
  {
   "cell_type": "code",
   "execution_count": 16,
   "id": "c511b7f5",
   "metadata": {},
   "outputs": [
    {
     "data": {
      "image/png": "[encoded data removed]",
      "text/plain": [
       "Plot with title \"Streams and no.of students\""
      ]
     },
     "metadata": {},
     "output_type": "display_data"
    }
   ],
   "source": [
    " barplot(stream,xlab=\"Streams\",ylab=\"Count\", main=\"Streams and no.of students\",col=\"#E6E6FA\",names.arg=c(\"Civil\",\"Electrical\",\"IT\",\"C.Sci\",\"ECE\",\"Mech\"))"
   ]
  },
  {
   "cell_type": "markdown",
   "id": "3fd2214b",
   "metadata": {},
   "source": [
    "#### No.of students and where they stay"
   ]
  },
  {
   "cell_type": "code",
   "execution_count": 17,
   "id": "ac83dea6",
   "metadata": {},
   "outputs": [
    {
     "data": {
      "text/html": [
       "2168"
      ],
      "text/latex": [
       "2168"
      ],
      "text/markdown": [
       "2168"
      ],
      "text/plain": [
       "[1] 2168"
      ]
     },
     "metadata": {},
     "output_type": "display_data"
    },
    {
     "data": {
      "text/html": [
       "798"
      ],
      "text/latex": [
       "798"
      ],
      "text/markdown": [
       "798"
      ],
      "text/plain": [
       "[1] 798"
      ]
     },
     "metadata": {},
     "output_type": "display_data"
    }
   ],
   "source": [
    "dayscholar= sum(placement$Hostel == '0')\n",
    "dayscholar\n",
    "hostelers= sum(placement$Hostel == '1')\n",
    "hostelers"
   ]
  },
  {
   "cell_type": "code",
   "execution_count": 18,
   "id": "df79cb64",
   "metadata": {},
   "outputs": [
    {
     "data": {
      "text/html": [
       "<table>\n",
       "<thead><tr><th scope=col>category</th><th scope=col>count</th></tr></thead>\n",
       "<tbody>\n",
       "\t<tr><td>dayscholar</td><td>2168      </td></tr>\n",
       "\t<tr><td>hostelers </td><td> 798      </td></tr>\n",
       "</tbody>\n",
       "</table>\n"
      ],
      "text/latex": [
       "\\begin{tabular}{r|ll}\n",
       " category & count\\\\\n",
       "\\hline\n",
       "\t dayscholar & 2168      \\\\\n",
       "\t hostelers  &  798      \\\\\n",
       "\\end{tabular}\n"
      ],
      "text/markdown": [
       "\n",
       "| category | count |\n",
       "|---|---|\n",
       "| dayscholar | 2168       |\n",
       "| hostelers  |  798       |\n",
       "\n"
      ],
      "text/plain": [
       "  category   count\n",
       "1 dayscholar 2168 \n",
       "2 hostelers   798 "
      ]
     },
     "metadata": {},
     "output_type": "display_data"
    }
   ],
   "source": [
    "data <- data.frame(\n",
    "  category=c(\"dayscholar\", \"hostelers\"),\n",
    "  count=c(dayscholar,hostelers)\n",
    ")\n",
    "data"
   ]
  },
  {
   "cell_type": "code",
   "execution_count": 19,
   "id": "3190e88f",
   "metadata": {},
   "outputs": [
    {
     "name": "stderr",
     "output_type": "stream",
     "text": [
      "Registered S3 method overwritten by 'rvest':\n",
      "  method            from\n",
      "  read_xml.response xml2\n",
      "-- Attaching packages ------------------------------------------------------------------------------- tidyverse 1.2.1 --\n",
      "v tibble  3.1.1     v purrr   0.3.4\n",
      "v readr   1.3.1     v stringr 1.4.0\n",
      "v tibble  3.1.1     v forcats 0.4.0\n",
      "Warning message:\n",
      "\"package 'tibble' was built under R version 3.6.3\"Warning message:\n",
      "\"package 'purrr' was built under R version 3.6.3\"-- Conflicts ---------------------------------------------------------------------------------- tidyverse_conflicts() --\n",
      "x psych::%+%()        masks ggplot2::%+%()\n",
      "x psych::alpha()      masks scales::alpha(), ggplot2::alpha()\n",
      "x readr::col_factor() masks scales::col_factor()\n",
      "x purrr::discard()    masks scales::discard()\n",
      "x dplyr::filter()     masks stats::filter()\n",
      "x dplyr::lag()        masks stats::lag()\n",
      "x purrr::lift()       masks caret::lift()\n",
      "x Hmisc::src()        masks dplyr::src()\n",
      "x Hmisc::summarize()  masks dplyr::summarize()\n"
     ]
    }
   ],
   "source": [
    "library(tidyverse)"
   ]
  },
  {
   "cell_type": "code",
   "execution_count": 20,
   "id": "a3db0b21",
   "metadata": {},
   "outputs": [
    {
     "data": {
      "image/png": "[encoded data removed]",
      "text/plain": [
       "plot without title"
      ]
     },
     "metadata": {},
     "output_type": "display_data"
    }
   ],
   "source": [
    "data$fraction = data$count / sum(data$count)\n",
    "data$ymax = cumsum(data$fraction)\n",
    "data$ymin = c(0, head(data$ymax, n=-1))\n",
    "ggplot(data, aes(ymax=ymax, ymin=ymin, xmax=4, xmin=3, fill=category)) +\n",
    "     geom_rect() +\n",
    "     coord_polar(theta=\"y\") + \n",
    "     xlim(c(2, 4)) "
   ]
  },
  {
   "cell_type": "markdown",
   "id": "cdafa29d",
   "metadata": {},
   "source": [
    "## CO2: Data Wrangling"
   ]
  },
  {
   "cell_type": "markdown",
   "id": "eb194eab",
   "metadata": {},
   "source": [
    "#### Encoding categorical data ( for required attributes)"
   ]
  },
  {
   "cell_type": "raw",
   "id": "2dff50d5",
   "metadata": {},
   "source": [
    "Encoding categorical variables : Consider the attribute PlacedOrNot. This describes whether the student has been placed or not depending on various factors.If placed then yes , if not then No. This can be encoded to a numeric label with yes -1 and no -0 using a factor which maps the levels accordingly."
   ]
  },
  {
   "cell_type": "code",
   "execution_count": 21,
   "id": "8321ac48",
   "metadata": {},
   "outputs": [
    {
     "data": {
      "text/html": [
       "<table>\n",
       "<thead><tr><th scope=col>Age</th><th scope=col>Gender</th><th scope=col>Stream</th><th scope=col>Internships</th><th scope=col>CGPA</th><th scope=col>Hostel</th><th scope=col>HistoryOfBacklogs</th><th scope=col>PlacedOrNot</th></tr></thead>\n",
       "<tbody>\n",
       "\t<tr><td>22                           </td><td>Male                         </td><td>Electronics And Communication</td><td>1                            </td><td>8                            </td><td>1                            </td><td>1                            </td><td>1                            </td></tr>\n",
       "\t<tr><td>21                           </td><td>Female                       </td><td>Computer Science             </td><td>0                            </td><td>7                            </td><td>1                            </td><td>1                            </td><td>1                            </td></tr>\n",
       "\t<tr><td>22                           </td><td>Female                       </td><td>Information Technology       </td><td>1                            </td><td>6                            </td><td>0                            </td><td>0                            </td><td>1                            </td></tr>\n",
       "\t<tr><td>21                           </td><td>Male                         </td><td>Information Technology       </td><td>0                            </td><td>8                            </td><td>0                            </td><td>1                            </td><td>1                            </td></tr>\n",
       "\t<tr><td>22                           </td><td>Male                         </td><td>Mechanical                   </td><td>0                            </td><td>8                            </td><td>1                            </td><td>0                            </td><td>1                            </td></tr>\n",
       "\t<tr><td>22                           </td><td>Male                         </td><td>Electronics And Communication</td><td>0                            </td><td>6                            </td><td>0                            </td><td>0                            </td><td>0                            </td></tr>\n",
       "</tbody>\n",
       "</table>\n"
      ],
      "text/latex": [
       "\\begin{tabular}{r|llllllll}\n",
       " Age & Gender & Stream & Internships & CGPA & Hostel & HistoryOfBacklogs & PlacedOrNot\\\\\n",
       "\\hline\n",
       "\t 22                            & Male                          & Electronics And Communication & 1                             & 8                             & 1                             & 1                             & 1                            \\\\\n",
       "\t 21                            & Female                        & Computer Science              & 0                             & 7                             & 1                             & 1                             & 1                            \\\\\n",
       "\t 22                            & Female                        & Information Technology        & 1                             & 6                             & 0                             & 0                             & 1                            \\\\\n",
       "\t 21                            & Male                          & Information Technology        & 0                             & 8                             & 0                             & 1                             & 1                            \\\\\n",
       "\t 22                            & Male                          & Mechanical                    & 0                             & 8                             & 1                             & 0                             & 1                            \\\\\n",
       "\t 22                            & Male                          & Electronics And Communication & 0                             & 6                             & 0                             & 0                             & 0                            \\\\\n",
       "\\end{tabular}\n"
      ],
      "text/markdown": [
       "\n",
       "| Age | Gender | Stream | Internships | CGPA | Hostel | HistoryOfBacklogs | PlacedOrNot |\n",
       "|---|---|---|---|---|---|---|---|\n",
       "| 22                            | Male                          | Electronics And Communication | 1                             | 8                             | 1                             | 1                             | 1                             |\n",
       "| 21                            | Female                        | Computer Science              | 0                             | 7                             | 1                             | 1                             | 1                             |\n",
       "| 22                            | Female                        | Information Technology        | 1                             | 6                             | 0                             | 0                             | 1                             |\n",
       "| 21                            | Male                          | Information Technology        | 0                             | 8                             | 0                             | 1                             | 1                             |\n",
       "| 22                            | Male                          | Mechanical                    | 0                             | 8                             | 1                             | 0                             | 1                             |\n",
       "| 22                            | Male                          | Electronics And Communication | 0                             | 6                             | 0                             | 0                             | 0                             |\n",
       "\n"
      ],
      "text/plain": [
       "  Age Gender Stream                        Internships CGPA Hostel\n",
       "1 22  Male   Electronics And Communication 1           8    1     \n",
       "2 21  Female Computer Science              0           7    1     \n",
       "3 22  Female Information Technology        1           6    0     \n",
       "4 21  Male   Information Technology        0           8    0     \n",
       "5 22  Male   Mechanical                    0           8    1     \n",
       "6 22  Male   Electronics And Communication 0           6    0     \n",
       "  HistoryOfBacklogs PlacedOrNot\n",
       "1 1                 1          \n",
       "2 1                 1          \n",
       "3 0                 1          \n",
       "4 1                 1          \n",
       "5 0                 1          \n",
       "6 0                 0          "
      ]
     },
     "metadata": {},
     "output_type": "display_data"
    }
   ],
   "source": [
    "placement$PlacedOrNot = factor(placement$PlacedOrNot,\n",
    "                           levels = c('No', 'Yes'),\n",
    "                           labels = c(0, 1))\n",
    "placement$HistoryOfBacklogs = factor(placement$HistoryOfBacklogs,\n",
    "                           levels = c('No', 'Yes'),\n",
    "                           labels = c(0, 1))\n",
    "\n",
    "head(placement)"
   ]
  },
  {
   "cell_type": "markdown",
   "id": "2502a6d4",
   "metadata": {},
   "source": [
    "#### Grouping the age attributes into 4 levels using binning :\n",
    "*   Binning or discretization is used for the transformation of a continuous or numerical variable into a categorical feature. \n",
    "*   Binning of continuous variable introduces non-linearity and tends to improve the performance of the model.\n",
    "*  It can be also used to identify missing values or outliers."
   ]
  },
  {
   "cell_type": "code",
   "execution_count": 22,
   "id": "85ade1d0",
   "metadata": {},
   "outputs": [
    {
     "data": {
      "text/html": [
       "<table>\n",
       "<thead><tr><th scope=col>Age</th><th scope=col>Gender</th><th scope=col>Stream</th><th scope=col>Internships</th><th scope=col>CGPA</th><th scope=col>Hostel</th><th scope=col>HistoryOfBacklogs</th><th scope=col>PlacedOrNot</th><th scope=col>AgeGroup</th></tr></thead>\n",
       "<tbody>\n",
       "\t<tr><td>22                           </td><td>Male                         </td><td>Electronics And Communication</td><td>1                            </td><td>8                            </td><td>1                            </td><td>1                            </td><td>1                            </td><td>22-24                        </td></tr>\n",
       "\t<tr><td>21                           </td><td>Female                       </td><td>Computer Science             </td><td>0                            </td><td>7                            </td><td>1                            </td><td>1                            </td><td>1                            </td><td>19-21                        </td></tr>\n",
       "\t<tr><td>22                           </td><td>Female                       </td><td>Information Technology       </td><td>1                            </td><td>6                            </td><td>0                            </td><td>0                            </td><td>1                            </td><td>22-24                        </td></tr>\n",
       "\t<tr><td>21                           </td><td>Male                         </td><td>Information Technology       </td><td>0                            </td><td>8                            </td><td>0                            </td><td>1                            </td><td>1                            </td><td>19-21                        </td></tr>\n",
       "\t<tr><td>22                           </td><td>Male                         </td><td>Mechanical                   </td><td>0                            </td><td>8                            </td><td>1                            </td><td>0                            </td><td>1                            </td><td>22-24                        </td></tr>\n",
       "\t<tr><td>22                           </td><td>Male                         </td><td>Electronics And Communication</td><td>0                            </td><td>6                            </td><td>0                            </td><td>0                            </td><td>0                            </td><td>22-24                        </td></tr>\n",
       "</tbody>\n",
       "</table>\n"
      ],
      "text/latex": [
       "\\begin{tabular}{r|lllllllll}\n",
       " Age & Gender & Stream & Internships & CGPA & Hostel & HistoryOfBacklogs & PlacedOrNot & AgeGroup\\\\\n",
       "\\hline\n",
       "\t 22                            & Male                          & Electronics And Communication & 1                             & 8                             & 1                             & 1                             & 1                             & 22-24                        \\\\\n",
       "\t 21                            & Female                        & Computer Science              & 0                             & 7                             & 1                             & 1                             & 1                             & 19-21                        \\\\\n",
       "\t 22                            & Female                        & Information Technology        & 1                             & 6                             & 0                             & 0                             & 1                             & 22-24                        \\\\\n",
       "\t 21                            & Male                          & Information Technology        & 0                             & 8                             & 0                             & 1                             & 1                             & 19-21                        \\\\\n",
       "\t 22                            & Male                          & Mechanical                    & 0                             & 8                             & 1                             & 0                             & 1                             & 22-24                        \\\\\n",
       "\t 22                            & Male                          & Electronics And Communication & 0                             & 6                             & 0                             & 0                             & 0                             & 22-24                        \\\\\n",
       "\\end{tabular}\n"
      ],
      "text/markdown": [
       "\n",
       "| Age | Gender | Stream | Internships | CGPA | Hostel | HistoryOfBacklogs | PlacedOrNot | AgeGroup |\n",
       "|---|---|---|---|---|---|---|---|---|\n",
       "| 22                            | Male                          | Electronics And Communication | 1                             | 8                             | 1                             | 1                             | 1                             | 22-24                         |\n",
       "| 21                            | Female                        | Computer Science              | 0                             | 7                             | 1                             | 1                             | 1                             | 19-21                         |\n",
       "| 22                            | Female                        | Information Technology        | 1                             | 6                             | 0                             | 0                             | 1                             | 22-24                         |\n",
       "| 21                            | Male                          | Information Technology        | 0                             | 8                             | 0                             | 1                             | 1                             | 19-21                         |\n",
       "| 22                            | Male                          | Mechanical                    | 0                             | 8                             | 1                             | 0                             | 1                             | 22-24                         |\n",
       "| 22                            | Male                          | Electronics And Communication | 0                             | 6                             | 0                             | 0                             | 0                             | 22-24                         |\n",
       "\n"
      ],
      "text/plain": [
       "  Age Gender Stream                        Internships CGPA Hostel\n",
       "1 22  Male   Electronics And Communication 1           8    1     \n",
       "2 21  Female Computer Science              0           7    1     \n",
       "3 22  Female Information Technology        1           6    0     \n",
       "4 21  Male   Information Technology        0           8    0     \n",
       "5 22  Male   Mechanical                    0           8    1     \n",
       "6 22  Male   Electronics And Communication 0           6    0     \n",
       "  HistoryOfBacklogs PlacedOrNot AgeGroup\n",
       "1 1                 1           22-24   \n",
       "2 1                 1           19-21   \n",
       "3 0                 1           22-24   \n",
       "4 1                 1           19-21   \n",
       "5 0                 1           22-24   \n",
       "6 0                 0           22-24   "
      ]
     },
     "metadata": {},
     "output_type": "display_data"
    }
   ],
   "source": [
    "placement$AgeGroup <- cut(placement$Age, breaks=4, labels=c(\"19-21\",\"22-24\",\"25-27\",\"28-30\"))\n",
    "head(placement)"
   ]
  },
  {
   "cell_type": "markdown",
   "id": "7bb3667b",
   "metadata": {},
   "source": [
    "#### Standardisation of the data\n",
    " Standardisation of datasets provide structured methods and reliable data that save time in the innovation process and also reduce the spread of the numerical variables.\n",
    "\n",
    " **Standardisation value = X – μ/σ**"
   ]
  },
  {
   "cell_type": "code",
   "execution_count": 23,
   "id": "543c9846",
   "metadata": {},
   "outputs": [],
   "source": [
    "#Install the caret package\n",
    "#install.packages(\"caret\")"
   ]
  },
  {
   "cell_type": "code",
   "execution_count": 24,
   "id": "4d0a0c3d",
   "metadata": {},
   "outputs": [
    {
     "data": {
      "text/html": [
       "<table>\n",
       "<thead><tr><th scope=col>Age</th><th scope=col>Gender</th><th scope=col>Stream</th><th scope=col>Internships</th><th scope=col>CGPA</th><th scope=col>Hostel</th><th scope=col>HistoryOfBacklogs</th><th scope=col>AgeGroup</th></tr></thead>\n",
       "<tbody>\n",
       "\t<tr><td> 0.3880651                   </td><td>Male                         </td><td>Electronics And Communication</td><td> 0.4003779                   </td><td> 0.95702930                  </td><td> 1.6479915                   </td><td>1                            </td><td>22-24                        </td></tr>\n",
       "\t<tr><td>-0.3666897                   </td><td>Female                       </td><td>Computer Science             </td><td>-0.9506129                   </td><td>-0.07629757                  </td><td> 1.6479915                   </td><td>1                            </td><td>19-21                        </td></tr>\n",
       "\t<tr><td> 0.3880651                   </td><td>Female                       </td><td>Information Technology       </td><td> 0.4003779                   </td><td>-1.10962444                  </td><td>-0.6065947                   </td><td>0                            </td><td>22-24                        </td></tr>\n",
       "\t<tr><td>-0.3666897                   </td><td>Male                         </td><td>Information Technology       </td><td>-0.9506129                   </td><td> 0.95702930                  </td><td>-0.6065947                   </td><td>1                            </td><td>19-21                        </td></tr>\n",
       "\t<tr><td> 0.3880651                   </td><td>Male                         </td><td>Mechanical                   </td><td>-0.9506129                   </td><td> 0.95702930                  </td><td> 1.6479915                   </td><td>0                            </td><td>22-24                        </td></tr>\n",
       "\t<tr><td> 0.3880651                   </td><td>Male                         </td><td>Electronics And Communication</td><td>-0.9506129                   </td><td>-1.10962444                  </td><td>-0.6065947                   </td><td>0                            </td><td>22-24                        </td></tr>\n",
       "</tbody>\n",
       "</table>\n"
      ],
      "text/latex": [
       "\\begin{tabular}{r|llllllll}\n",
       " Age & Gender & Stream & Internships & CGPA & Hostel & HistoryOfBacklogs & AgeGroup\\\\\n",
       "\\hline\n",
       "\t  0.3880651                    & Male                          & Electronics And Communication &  0.4003779                    &  0.95702930                   &  1.6479915                    & 1                             & 22-24                        \\\\\n",
       "\t -0.3666897                    & Female                        & Computer Science              & -0.9506129                    & -0.07629757                   &  1.6479915                    & 1                             & 19-21                        \\\\\n",
       "\t  0.3880651                    & Female                        & Information Technology        &  0.4003779                    & -1.10962444                   & -0.6065947                    & 0                             & 22-24                        \\\\\n",
       "\t -0.3666897                    & Male                          & Information Technology        & -0.9506129                    &  0.95702930                   & -0.6065947                    & 1                             & 19-21                        \\\\\n",
       "\t  0.3880651                    & Male                          & Mechanical                    & -0.9506129                    &  0.95702930                   &  1.6479915                    & 0                             & 22-24                        \\\\\n",
       "\t  0.3880651                    & Male                          & Electronics And Communication & -0.9506129                    & -1.10962444                   & -0.6065947                    & 0                             & 22-24                        \\\\\n",
       "\\end{tabular}\n"
      ],
      "text/markdown": [
       "\n",
       "| Age | Gender | Stream | Internships | CGPA | Hostel | HistoryOfBacklogs | AgeGroup |\n",
       "|---|---|---|---|---|---|---|---|\n",
       "|  0.3880651                    | Male                          | Electronics And Communication |  0.4003779                    |  0.95702930                   |  1.6479915                    | 1                             | 22-24                         |\n",
       "| -0.3666897                    | Female                        | Computer Science              | -0.9506129                    | -0.07629757                   |  1.6479915                    | 1                             | 19-21                         |\n",
       "|  0.3880651                    | Female                        | Information Technology        |  0.4003779                    | -1.10962444                   | -0.6065947                    | 0                             | 22-24                         |\n",
       "| -0.3666897                    | Male                          | Information Technology        | -0.9506129                    |  0.95702930                   | -0.6065947                    | 1                             | 19-21                         |\n",
       "|  0.3880651                    | Male                          | Mechanical                    | -0.9506129                    |  0.95702930                   |  1.6479915                    | 0                             | 22-24                         |\n",
       "|  0.3880651                    | Male                          | Electronics And Communication | -0.9506129                    | -1.10962444                   | -0.6065947                    | 0                             | 22-24                         |\n",
       "\n"
      ],
      "text/plain": [
       "  Age        Gender Stream                        Internships CGPA       \n",
       "1  0.3880651 Male   Electronics And Communication  0.4003779   0.95702930\n",
       "2 -0.3666897 Female Computer Science              -0.9506129  -0.07629757\n",
       "3  0.3880651 Female Information Technology         0.4003779  -1.10962444\n",
       "4 -0.3666897 Male   Information Technology        -0.9506129   0.95702930\n",
       "5  0.3880651 Male   Mechanical                    -0.9506129   0.95702930\n",
       "6  0.3880651 Male   Electronics And Communication -0.9506129  -1.10962444\n",
       "  Hostel     HistoryOfBacklogs AgeGroup\n",
       "1  1.6479915 1                 22-24   \n",
       "2  1.6479915 1                 19-21   \n",
       "3 -0.6065947 0                 22-24   \n",
       "4 -0.6065947 1                 19-21   \n",
       "5  1.6479915 0                 22-24   \n",
       "6 -0.6065947 0                 22-24   "
      ]
     },
     "metadata": {},
     "output_type": "display_data"
    }
   ],
   "source": [
    "library(caret)\n",
    "data <-  subset(placement, select = -c(8) )\n",
    "placement.pre <- preProcess(data, method=c(\"center\", \"scale\"))\n",
    "data1 <- predict(placement.pre, data)\n",
    "head(data1)"
   ]
  },
  {
   "cell_type": "code",
   "execution_count": 25,
   "id": "0b1be420",
   "metadata": {},
   "outputs": [
    {
     "data": {
      "text/html": [
       "<table>\n",
       "<thead><tr><th scope=col>placement.PlacedOrNot</th></tr></thead>\n",
       "<tbody>\n",
       "\t<tr><td>1</td></tr>\n",
       "\t<tr><td>1</td></tr>\n",
       "\t<tr><td>1</td></tr>\n",
       "\t<tr><td>1</td></tr>\n",
       "\t<tr><td>1</td></tr>\n",
       "\t<tr><td>0</td></tr>\n",
       "</tbody>\n",
       "</table>\n"
      ],
      "text/latex": [
       "\\begin{tabular}{r|l}\n",
       " placement.PlacedOrNot\\\\\n",
       "\\hline\n",
       "\t 1\\\\\n",
       "\t 1\\\\\n",
       "\t 1\\\\\n",
       "\t 1\\\\\n",
       "\t 1\\\\\n",
       "\t 0\\\\\n",
       "\\end{tabular}\n"
      ],
      "text/markdown": [
       "\n",
       "| placement.PlacedOrNot |\n",
       "|---|\n",
       "| 1 |\n",
       "| 1 |\n",
       "| 1 |\n",
       "| 1 |\n",
       "| 1 |\n",
       "| 0 |\n",
       "\n"
      ],
      "text/plain": [
       "  placement.PlacedOrNot\n",
       "1 1                    \n",
       "2 1                    \n",
       "3 1                    \n",
       "4 1                    \n",
       "5 1                    \n",
       "6 0                    "
      ]
     },
     "metadata": {},
     "output_type": "display_data"
    }
   ],
   "source": [
    "data1 <- cbind(data1, data.frame(placement$PlacedOrNot))\n",
    "colnames(data1[9]) <- \"PlacedOrNot\"\n",
    "head(data1[9])"
   ]
  },
  {
   "cell_type": "markdown",
   "id": "248a5ec4",
   "metadata": {},
   "source": [
    "## CO3: Data Modeling and Analysis"
   ]
  },
  {
   "cell_type": "markdown",
   "id": "1e29f343",
   "metadata": {},
   "source": [
    "#### Female students who got placed or not :"
   ]
  },
  {
   "cell_type": "code",
   "execution_count": 26,
   "id": "a7664923",
   "metadata": {},
   "outputs": [
    {
     "data": {
      "text/html": [
       "<table>\n",
       "<thead><tr><th scope=col>Age</th><th scope=col>Gender</th><th scope=col>Stream</th><th scope=col>Internships</th><th scope=col>CGPA</th><th scope=col>Hostel</th><th scope=col>HistoryOfBacklogs</th><th scope=col>PlacedOrNot</th><th scope=col>AgeGroup</th></tr></thead>\n",
       "<tbody>\n",
       "\t<tr><td>21                           </td><td>Female                       </td><td>Computer Science             </td><td>0                            </td><td>7                            </td><td>1                            </td><td>1                            </td><td>1                            </td><td>19-21                        </td></tr>\n",
       "\t<tr><td>22                           </td><td>Female                       </td><td>Information Technology       </td><td>1                            </td><td>6                            </td><td>0                            </td><td>0                            </td><td>1                            </td><td>22-24                        </td></tr>\n",
       "\t<tr><td>21                           </td><td>Female                       </td><td>Computer Science             </td><td>1                            </td><td>6                            </td><td>1                            </td><td>0                            </td><td>0                            </td><td>19-21                        </td></tr>\n",
       "\t<tr><td>22                           </td><td>Female                       </td><td>Electrical                   </td><td>1                            </td><td>8                            </td><td>0                            </td><td>1                            </td><td>1                            </td><td>22-24                        </td></tr>\n",
       "\t<tr><td>21                           </td><td>Female                       </td><td>Computer Science             </td><td>2                            </td><td>6                            </td><td>1                            </td><td>1                            </td><td>0                            </td><td>19-21                        </td></tr>\n",
       "\t<tr><td>21                           </td><td>Female                       </td><td>Electronics And Communication</td><td>2                            </td><td>8                            </td><td>0                            </td><td>0                            </td><td>1                            </td><td>19-21                        </td></tr>\n",
       "</tbody>\n",
       "</table>\n"
      ],
      "text/latex": [
       "\\begin{tabular}{r|lllllllll}\n",
       " Age & Gender & Stream & Internships & CGPA & Hostel & HistoryOfBacklogs & PlacedOrNot & AgeGroup\\\\\n",
       "\\hline\n",
       "\t 21                            & Female                        & Computer Science              & 0                             & 7                             & 1                             & 1                             & 1                             & 19-21                        \\\\\n",
       "\t 22                            & Female                        & Information Technology        & 1                             & 6                             & 0                             & 0                             & 1                             & 22-24                        \\\\\n",
       "\t 21                            & Female                        & Computer Science              & 1                             & 6                             & 1                             & 0                             & 0                             & 19-21                        \\\\\n",
       "\t 22                            & Female                        & Electrical                    & 1                             & 8                             & 0                             & 1                             & 1                             & 22-24                        \\\\\n",
       "\t 21                            & Female                        & Computer Science              & 2                             & 6                             & 1                             & 1                             & 0                             & 19-21                        \\\\\n",
       "\t 21                            & Female                        & Electronics And Communication & 2                             & 8                             & 0                             & 0                             & 1                             & 19-21                        \\\\\n",
       "\\end{tabular}\n"
      ],
      "text/markdown": [
       "\n",
       "| Age | Gender | Stream | Internships | CGPA | Hostel | HistoryOfBacklogs | PlacedOrNot | AgeGroup |\n",
       "|---|---|---|---|---|---|---|---|---|\n",
       "| 21                            | Female                        | Computer Science              | 0                             | 7                             | 1                             | 1                             | 1                             | 19-21                         |\n",
       "| 22                            | Female                        | Information Technology        | 1                             | 6                             | 0                             | 0                             | 1                             | 22-24                         |\n",
       "| 21                            | Female                        | Computer Science              | 1                             | 6                             | 1                             | 0                             | 0                             | 19-21                         |\n",
       "| 22                            | Female                        | Electrical                    | 1                             | 8                             | 0                             | 1                             | 1                             | 22-24                         |\n",
       "| 21                            | Female                        | Computer Science              | 2                             | 6                             | 1                             | 1                             | 0                             | 19-21                         |\n",
       "| 21                            | Female                        | Electronics And Communication | 2                             | 8                             | 0                             | 0                             | 1                             | 19-21                         |\n",
       "\n"
      ],
      "text/plain": [
       "  Age Gender Stream                        Internships CGPA Hostel\n",
       "1 21  Female Computer Science              0           7    1     \n",
       "2 22  Female Information Technology        1           6    0     \n",
       "3 21  Female Computer Science              1           6    1     \n",
       "4 22  Female Electrical                    1           8    0     \n",
       "5 21  Female Computer Science              2           6    1     \n",
       "6 21  Female Electronics And Communication 2           8    0     \n",
       "  HistoryOfBacklogs PlacedOrNot AgeGroup\n",
       "1 1                 1           19-21   \n",
       "2 0                 1           22-24   \n",
       "3 0                 0           19-21   \n",
       "4 1                 1           22-24   \n",
       "5 1                 0           19-21   \n",
       "6 0                 1           19-21   "
      ]
     },
     "metadata": {},
     "output_type": "display_data"
    }
   ],
   "source": [
    "filter_female <- placement %>%filter(Gender==\"Female\") %>%\n",
    "  group_by(PlacedOrNot)\n",
    "head(filter_female)"
   ]
  },
  {
   "cell_type": "code",
   "execution_count": 27,
   "id": "80c1ed31",
   "metadata": {},
   "outputs": [
    {
     "data": {
      "text/html": [
       "<table>\n",
       "<thead><tr><th scope=col>PlacedOrNot</th><th scope=col>n</th></tr></thead>\n",
       "<tbody>\n",
       "\t<tr><td>0  </td><td>216</td></tr>\n",
       "\t<tr><td>1  </td><td>275</td></tr>\n",
       "</tbody>\n",
       "</table>\n"
      ],
      "text/latex": [
       "\\begin{tabular}{r|ll}\n",
       " PlacedOrNot & n\\\\\n",
       "\\hline\n",
       "\t 0   & 216\\\\\n",
       "\t 1   & 275\\\\\n",
       "\\end{tabular}\n"
      ],
      "text/markdown": [
       "\n",
       "| PlacedOrNot | n |\n",
       "|---|---|\n",
       "| 0   | 216 |\n",
       "| 1   | 275 |\n",
       "\n"
      ],
      "text/plain": [
       "  PlacedOrNot n  \n",
       "1 0           216\n",
       "2 1           275"
      ]
     },
     "metadata": {},
     "output_type": "display_data"
    }
   ],
   "source": [
    "count(filter_female)"
   ]
  },
  {
   "cell_type": "code",
   "execution_count": null,
   "id": "f74c5e83",
   "metadata": {},
   "outputs": [],
   "source": []
  },
  {
   "cell_type": "markdown",
   "id": "36a68ff9",
   "metadata": {},
   "source": [
    "#### Male students who got placed or not:"
   ]
  },
  {
   "cell_type": "code",
   "execution_count": 28,
   "id": "cc0c0af9",
   "metadata": {},
   "outputs": [
    {
     "data": {
      "text/html": [
       "<table>\n",
       "<thead><tr><th scope=col>Age</th><th scope=col>Gender</th><th scope=col>Stream</th><th scope=col>Internships</th><th scope=col>CGPA</th><th scope=col>Hostel</th><th scope=col>HistoryOfBacklogs</th><th scope=col>PlacedOrNot</th><th scope=col>AgeGroup</th></tr></thead>\n",
       "<tbody>\n",
       "\t<tr><td>22                           </td><td>Male                         </td><td>Electronics And Communication</td><td>1                            </td><td>8                            </td><td>1                            </td><td>1                            </td><td>1                            </td><td>22-24                        </td></tr>\n",
       "\t<tr><td>21                           </td><td>Male                         </td><td>Information Technology       </td><td>0                            </td><td>8                            </td><td>0                            </td><td>1                            </td><td>1                            </td><td>19-21                        </td></tr>\n",
       "\t<tr><td>22                           </td><td>Male                         </td><td>Mechanical                   </td><td>0                            </td><td>8                            </td><td>1                            </td><td>0                            </td><td>1                            </td><td>22-24                        </td></tr>\n",
       "\t<tr><td>22                           </td><td>Male                         </td><td>Electronics And Communication</td><td>0                            </td><td>6                            </td><td>0                            </td><td>0                            </td><td>0                            </td><td>22-24                        </td></tr>\n",
       "\t<tr><td>21                           </td><td>Male                         </td><td>Computer Science             </td><td>0                            </td><td>7                            </td><td>0                            </td><td>1                            </td><td>0                            </td><td>19-21                        </td></tr>\n",
       "\t<tr><td>21                           </td><td>Male                         </td><td>Information Technology       </td><td>1                            </td><td>7                            </td><td>0                            </td><td>0                            </td><td>0                            </td><td>19-21                        </td></tr>\n",
       "</tbody>\n",
       "</table>\n"
      ],
      "text/latex": [
       "\\begin{tabular}{r|lllllllll}\n",
       " Age & Gender & Stream & Internships & CGPA & Hostel & HistoryOfBacklogs & PlacedOrNot & AgeGroup\\\\\n",
       "\\hline\n",
       "\t 22                            & Male                          & Electronics And Communication & 1                             & 8                             & 1                             & 1                             & 1                             & 22-24                        \\\\\n",
       "\t 21                            & Male                          & Information Technology        & 0                             & 8                             & 0                             & 1                             & 1                             & 19-21                        \\\\\n",
       "\t 22                            & Male                          & Mechanical                    & 0                             & 8                             & 1                             & 0                             & 1                             & 22-24                        \\\\\n",
       "\t 22                            & Male                          & Electronics And Communication & 0                             & 6                             & 0                             & 0                             & 0                             & 22-24                        \\\\\n",
       "\t 21                            & Male                          & Computer Science              & 0                             & 7                             & 0                             & 1                             & 0                             & 19-21                        \\\\\n",
       "\t 21                            & Male                          & Information Technology        & 1                             & 7                             & 0                             & 0                             & 0                             & 19-21                        \\\\\n",
       "\\end{tabular}\n"
      ],
      "text/markdown": [
       "\n",
       "| Age | Gender | Stream | Internships | CGPA | Hostel | HistoryOfBacklogs | PlacedOrNot | AgeGroup |\n",
       "|---|---|---|---|---|---|---|---|---|\n",
       "| 22                            | Male                          | Electronics And Communication | 1                             | 8                             | 1                             | 1                             | 1                             | 22-24                         |\n",
       "| 21                            | Male                          | Information Technology        | 0                             | 8                             | 0                             | 1                             | 1                             | 19-21                         |\n",
       "| 22                            | Male                          | Mechanical                    | 0                             | 8                             | 1                             | 0                             | 1                             | 22-24                         |\n",
       "| 22                            | Male                          | Electronics And Communication | 0                             | 6                             | 0                             | 0                             | 0                             | 22-24                         |\n",
       "| 21                            | Male                          | Computer Science              | 0                             | 7                             | 0                             | 1                             | 0                             | 19-21                         |\n",
       "| 21                            | Male                          | Information Technology        | 1                             | 7                             | 0                             | 0                             | 0                             | 19-21                         |\n",
       "\n"
      ],
      "text/plain": [
       "  Age Gender Stream                        Internships CGPA Hostel\n",
       "1 22  Male   Electronics And Communication 1           8    1     \n",
       "2 21  Male   Information Technology        0           8    0     \n",
       "3 22  Male   Mechanical                    0           8    1     \n",
       "4 22  Male   Electronics And Communication 0           6    0     \n",
       "5 21  Male   Computer Science              0           7    0     \n",
       "6 21  Male   Information Technology        1           7    0     \n",
       "  HistoryOfBacklogs PlacedOrNot AgeGroup\n",
       "1 1                 1           22-24   \n",
       "2 1                 1           19-21   \n",
       "3 0                 1           22-24   \n",
       "4 0                 0           22-24   \n",
       "5 1                 0           19-21   \n",
       "6 0                 0           19-21   "
      ]
     },
     "metadata": {},
     "output_type": "display_data"
    }
   ],
   "source": [
    "filter_male <- placement %>%filter(Gender==\"Male\") %>%\n",
    "  group_by(PlacedOrNot)\n",
    "head(filter_male)"
   ]
  },
  {
   "cell_type": "code",
   "execution_count": 29,
   "id": "ef90c95a",
   "metadata": {},
   "outputs": [
    {
     "data": {
      "text/html": [
       "<table>\n",
       "<thead><tr><th scope=col>PlacedOrNot</th><th scope=col>n</th></tr></thead>\n",
       "<tbody>\n",
       "\t<tr><td>0   </td><td>1111</td></tr>\n",
       "\t<tr><td>1   </td><td>1364</td></tr>\n",
       "</tbody>\n",
       "</table>\n"
      ],
      "text/latex": [
       "\\begin{tabular}{r|ll}\n",
       " PlacedOrNot & n\\\\\n",
       "\\hline\n",
       "\t 0    & 1111\\\\\n",
       "\t 1    & 1364\\\\\n",
       "\\end{tabular}\n"
      ],
      "text/markdown": [
       "\n",
       "| PlacedOrNot | n |\n",
       "|---|---|\n",
       "| 0    | 1111 |\n",
       "| 1    | 1364 |\n",
       "\n"
      ],
      "text/plain": [
       "  PlacedOrNot n   \n",
       "1 0           1111\n",
       "2 1           1364"
      ]
     },
     "metadata": {},
     "output_type": "display_data"
    }
   ],
   "source": [
    "count(filter_male)"
   ]
  },
  {
   "cell_type": "code",
   "execution_count": 30,
   "id": "fdbf06f9",
   "metadata": {},
   "outputs": [
    {
     "data": {
      "image/png": "[encoded data removed]",
      "text/plain": [
       "Plot with title \"Total Male students who are placed or not\""
      ]
     },
     "metadata": {},
     "output_type": "display_data"
    }
   ],
   "source": [
    "mt=data.matrix(factor(filter_male$PlacedOrNot))\n",
    "mt_final=summary(factor(mt,\n",
    "                        labels=c('Not Placed','Placed'),\n",
    "                        levels=c(0,1)))\n",
    "barplot(mt_final,col=c(\"#FFB6C1\",\"#AFEEEE\"),main=\"Total Male students who are placed or not\")"
   ]
  },
  {
   "cell_type": "markdown",
   "id": "9c2606ba",
   "metadata": {},
   "source": [
    "#### No.of students by their age group"
   ]
  },
  {
   "cell_type": "code",
   "execution_count": 31,
   "id": "d0255592",
   "metadata": {},
   "outputs": [],
   "source": [
    "AgeGroup1= sum(placement$AgeGroup == '19-21')\n",
    "AgeGroup2= sum(placement$AgeGroup == '22-24')\n",
    "AgeGroup3= sum(placement$AgeGroup == '25-27')\n",
    "AgeGroup4= sum(placement$AgeGroup == '28-30')"
   ]
  },
  {
   "cell_type": "code",
   "execution_count": 32,
   "id": "af5c62e6",
   "metadata": {},
   "outputs": [
    {
     "data": {
      "text/html": [
       "<table>\n",
       "<thead><tr><th scope=col>category</th><th scope=col>count</th></tr></thead>\n",
       "<tbody>\n",
       "\t<tr><td>19-21</td><td>1615 </td></tr>\n",
       "\t<tr><td>22-24</td><td>1267 </td></tr>\n",
       "\t<tr><td>25-27</td><td>  79 </td></tr>\n",
       "\t<tr><td>28-30</td><td>   5 </td></tr>\n",
       "</tbody>\n",
       "</table>\n"
      ],
      "text/latex": [
       "\\begin{tabular}{r|ll}\n",
       " category & count\\\\\n",
       "\\hline\n",
       "\t 19-21 & 1615 \\\\\n",
       "\t 22-24 & 1267 \\\\\n",
       "\t 25-27 &   79 \\\\\n",
       "\t 28-30 &    5 \\\\\n",
       "\\end{tabular}\n"
      ],
      "text/markdown": [
       "\n",
       "| category | count |\n",
       "|---|---|\n",
       "| 19-21 | 1615  |\n",
       "| 22-24 | 1267  |\n",
       "| 25-27 |   79  |\n",
       "| 28-30 |    5  |\n",
       "\n"
      ],
      "text/plain": [
       "  category count\n",
       "1 19-21    1615 \n",
       "2 22-24    1267 \n",
       "3 25-27      79 \n",
       "4 28-30       5 "
      ]
     },
     "metadata": {},
     "output_type": "display_data"
    }
   ],
   "source": [
    "AgeGroups <- data.frame(\n",
    "  category=c(\"19-21\", \"22-24\",\"25-27\",\"28-30\"),\n",
    "  count=c(AgeGroup1,AgeGroup2,AgeGroup3,AgeGroup4)\n",
    ")\n",
    "AgeGroups"
   ]
  },
  {
   "cell_type": "code",
   "execution_count": 33,
   "id": "a43bcb06",
   "metadata": {},
   "outputs": [
    {
     "data": {
      "image/png": "[encoded data removed]",
      "text/plain": [
       "plot without title"
      ]
     },
     "metadata": {},
     "output_type": "display_data"
    }
   ],
   "source": [
    "library(ggplot2)\n",
    "\n",
    "# Barplot\n",
    "ggplot(AgeGroups, aes(x=category, y=count)) + \n",
    "  geom_bar(stat = \"identity\",fill=\"#008080\")"
   ]
  },
  {
   "cell_type": "markdown",
   "id": "39e61ebc",
   "metadata": {},
   "source": [
    "### Logistic regression\n",
    "*   Logistic regression is a supervised learning classification algorithm used to predict the probability of a target variable. \n",
    "*   The nature of target or dependent variable is dichotomous, which means there would be only two possible classes.\n",
    "\n",
    "*  Logistic regression can be divided into following types :\n",
    "\n",
    "1.   Binary or Binomial\n",
    "\n",
    "2.   Multinomial\n",
    "\n",
    "3.   Ordinal"
   ]
  },
  {
   "cell_type": "code",
   "execution_count": 34,
   "id": "0fba89e8",
   "metadata": {},
   "outputs": [],
   "source": [
    "# Installing the package For Logistic regression\n",
    "#install.packages(\"caTools\")    "
   ]
  },
  {
   "cell_type": "code",
   "execution_count": 35,
   "id": "5530cbc3",
   "metadata": {},
   "outputs": [],
   "source": [
    "# Loading the libraries\n",
    "library(caTools)"
   ]
  },
  {
   "cell_type": "code",
   "execution_count": 36,
   "id": "7567a76f",
   "metadata": {},
   "outputs": [
    {
     "data": {
      "text/html": [
       "<ol class=list-inline>\n",
       "\t<li>TRUE</li>\n",
       "\t<li>FALSE</li>\n",
       "\t<li>TRUE</li>\n",
       "\t<li>TRUE</li>\n",
       "\t<li>TRUE</li>\n",
       "\t<li>TRUE</li>\n",
       "\t<li>TRUE</li>\n",
       "\t<li>TRUE</li>\n",
       "\t<li>FALSE</li>\n",
       "</ol>\n"
      ],
      "text/latex": [
       "\\begin{enumerate*}\n",
       "\\item TRUE\n",
       "\\item FALSE\n",
       "\\item TRUE\n",
       "\\item TRUE\n",
       "\\item TRUE\n",
       "\\item TRUE\n",
       "\\item TRUE\n",
       "\\item TRUE\n",
       "\\item FALSE\n",
       "\\end{enumerate*}\n"
      ],
      "text/markdown": [
       "1. TRUE\n",
       "2. FALSE\n",
       "3. TRUE\n",
       "4. TRUE\n",
       "5. TRUE\n",
       "6. TRUE\n",
       "7. TRUE\n",
       "8. TRUE\n",
       "9. FALSE\n",
       "\n",
       "\n"
      ],
      "text/plain": [
       "[1]  TRUE FALSE  TRUE  TRUE  TRUE  TRUE  TRUE  TRUE FALSE"
      ]
     },
     "metadata": {},
     "output_type": "display_data"
    }
   ],
   "source": [
    "split <- sample.split(data1, SplitRatio = 0.8)\n",
    "split\n",
    "# subset(): Here it is used to select and filter variables into train and test data\n",
    "train_reg <- subset(data1, split == \"TRUE\")\n",
    "test_reg <- subset(data1, split == \"FALSE\")"
   ]
  },
  {
   "cell_type": "code",
   "execution_count": 37,
   "id": "2fb0ae9a",
   "metadata": {},
   "outputs": [
    {
     "data": {
      "text/plain": [
       "\n",
       "Call:  glm(formula = placement.PlacedOrNot ~ CGPA + Internships + HistoryOfBacklogs + \n",
       "    +Age + Hostel, family = binomial(link = \"logit\"), data = train_reg)\n",
       "\n",
       "Coefficients:\n",
       "       (Intercept)                CGPA         Internships  HistoryOfBacklogs1  \n",
       "           0.34158             1.90913             0.59393            -0.08147  \n",
       "               Age              Hostel  \n",
       "           0.41277            -0.15675  \n",
       "\n",
       "Degrees of Freedom: 2306 Total (i.e. Null);  2301 Residual\n",
       "Null Deviance:\t    3178 \n",
       "Residual Deviance: 2041 \tAIC: 2053"
      ]
     },
     "metadata": {},
     "output_type": "display_data"
    },
    {
     "data": {
      "text/plain": [
       "\n",
       "Call:\n",
       "glm(formula = placement.PlacedOrNot ~ CGPA + Internships + HistoryOfBacklogs + \n",
       "    +Age + Hostel, family = binomial(link = \"logit\"), data = train_reg)\n",
       "\n",
       "Deviance Residuals: \n",
       "    Min       1Q   Median       3Q      Max  \n",
       "-2.1863  -0.6993   0.2415   0.6211   2.6335  \n",
       "\n",
       "Coefficients:\n",
       "                   Estimate Std. Error z value Pr(>|z|)    \n",
       "(Intercept)         0.34158    0.06227   5.485 4.13e-08 ***\n",
       "CGPA                1.90913    0.07820  24.412  < 2e-16 ***\n",
       "Internships         0.59393    0.05909  10.051  < 2e-16 ***\n",
       "HistoryOfBacklogs1 -0.08147    0.13817  -0.590   0.5554    \n",
       "Age                 0.41277    0.05783   7.137 9.51e-13 ***\n",
       "Hostel             -0.15675    0.05596  -2.801   0.0051 ** \n",
       "---\n",
       "Signif. codes:  0 '***' 0.001 '**' 0.01 '*' 0.05 '.' 0.1 ' ' 1\n",
       "\n",
       "(Dispersion parameter for binomial family taken to be 1)\n",
       "\n",
       "    Null deviance: 3178.1  on 2306  degrees of freedom\n",
       "Residual deviance: 2041.0  on 2301  degrees of freedom\n",
       "AIC: 2053\n",
       "\n",
       "Number of Fisher Scoring iterations: 5\n"
      ]
     },
     "metadata": {},
     "output_type": "display_data"
    }
   ],
   "source": [
    "#Training model\n",
    "logistic_model <- glm(placement.PlacedOrNot ~ CGPA + Internships + HistoryOfBacklogs+\n",
    "                      + Age  + Hostel,family=binomial(link='logit'),\n",
    "                    data = train_reg)\n",
    "logistic_model\n",
    "# Summary\n",
    "summary(logistic_model)"
   ]
  },
  {
   "cell_type": "markdown",
   "id": "5e1fce7d",
   "metadata": {},
   "source": [
    "# CO4: Mining Techniques in R"
   ]
  },
  {
   "cell_type": "markdown",
   "id": "02c12751",
   "metadata": {},
   "source": [
    "#### Decision Tree\n",
    "Decision tree is a graph to represent choices and their results in form of a tree. The nodes in the graph represent an event or choice and the edges of the graph represent the decision rules or conditions. It is mostly used in Machine Learning and Data Mining applications using R."
   ]
  },
  {
   "cell_type": "code",
   "execution_count": 38,
   "id": "2932eee2",
   "metadata": {},
   "outputs": [],
   "source": [
    "# install.packages(\"party\")\n",
    "# install.packages(\"randomForest\")"
   ]
  },
  {
   "cell_type": "code",
   "execution_count": 39,
   "id": "cb57194f",
   "metadata": {},
   "outputs": [
    {
     "name": "stderr",
     "output_type": "stream",
     "text": [
      "Warning message:\n",
      "\"package 'party' was built under R version 3.6.3\"Loading required package: grid\n",
      "Loading required package: mvtnorm\n",
      "Warning message:\n",
      "\"package 'mvtnorm' was built under R version 3.6.3\"Loading required package: modeltools\n",
      "Warning message:\n",
      "\"package 'modeltools' was built under R version 3.6.3\"Loading required package: stats4\n",
      "Loading required package: strucchange\n",
      "Warning message:\n",
      "\"package 'strucchange' was built under R version 3.6.3\"Loading required package: zoo\n",
      "\n",
      "Attaching package: 'zoo'\n",
      "\n",
      "The following objects are masked from 'package:base':\n",
      "\n",
      "    as.Date, as.Date.numeric\n",
      "\n",
      "Loading required package: sandwich\n",
      "\n",
      "Attaching package: 'strucchange'\n",
      "\n",
      "The following object is masked from 'package:stringr':\n",
      "\n",
      "    boundary\n",
      "\n"
     ]
    }
   ],
   "source": [
    "# The package \"party\" has the function ctree() which is used to create and analyze decison tree.\n",
    "library(party)\n",
    " output.tree <- ctree(placement.PlacedOrNot ~ CGPA + Internships + HistoryOfBacklogs+\n",
    "                      + Age  + Hostel,\n",
    "  data = train_reg)"
   ]
  },
  {
   "cell_type": "code",
   "execution_count": 40,
   "id": "ae58c451",
   "metadata": {},
   "outputs": [
    {
     "data": {
      "text/plain": [
       "\n",
       "\t Conditional inference tree with 10 terminal nodes\n",
       "\n",
       "Response:  placement.PlacedOrNot \n",
       "Inputs:  CGPA, Internships, HistoryOfBacklogs, Age, Hostel \n",
       "Number of observations:  2307 \n",
       "\n",
       "1) CGPA <= -0.07629757; criterion = 1, statistic = 824.311\n",
       "  2) Internships <= 0.4003779; criterion = 1, statistic = 128.528\n",
       "    3) Age <= 1.14282; criterion = 1, statistic = 73.276\n",
       "      4) Hostel <= -0.6065947; criterion = 1, statistic = 16.22\n",
       "        5) CGPA <= -1.109624; criterion = 0.999, statistic = 14.639\n",
       "          6)*  weights = 411 \n",
       "        5) CGPA > -1.109624\n",
       "          7) Internships <= -0.9506129; criterion = 0.974, statistic = 7.804\n",
       "            8)*  weights = 240 \n",
       "          7) Internships > -0.9506129\n",
       "            9)*  weights = 206 \n",
       "      4) Hostel > -0.6065947\n",
       "        10)*  weights = 298 \n",
       "    3) Age > 1.14282\n",
       "      11) CGPA <= -1.109624; criterion = 0.981, statistic = 8.336\n",
       "        12) CGPA <= -2.142951; criterion = 1, statistic = 57.664\n",
       "          13)*  weights = 8 \n",
       "        12) CGPA > -2.142951\n",
       "          14)*  weights = 60 \n",
       "      11) CGPA > -1.109624\n",
       "        15)*  weights = 52 \n",
       "  2) Internships > 0.4003779\n",
       "    16) HistoryOfBacklogs == {1}; criterion = 1, statistic = 19.046\n",
       "      17)*  weights = 37 \n",
       "    16) HistoryOfBacklogs == {0}\n",
       "      18)*  weights = 150 \n",
       "1) CGPA > -0.07629757\n",
       "  19)*  weights = 845 "
      ]
     },
     "metadata": {},
     "output_type": "display_data"
    }
   ],
   "source": [
    "output.tree"
   ]
  },
  {
   "cell_type": "markdown",
   "id": "a7474dc5",
   "metadata": {},
   "source": [
    "### Random Forest\n",
    "\n",
    "In the random forest approach, a large number of decision trees are created. Every observation is fed into every decision tree. The most common outcome for each observation is used as the final output. A new observation is fed into all the trees and taking a majority vote for each classification model.\n",
    "\n",
    "An error estimate is made for the cases which were not used while building the tree. That is called an OOB (Out-of-bag) error estimate which is mentioned as a percentage.\n",
    "\n",
    "The package \"randomForest\" has the function randomForest() which is used to create and analyze random forests."
   ]
  },
  {
   "cell_type": "code",
   "execution_count": 41,
   "id": "2d35c6fc",
   "metadata": {},
   "outputs": [
    {
     "name": "stderr",
     "output_type": "stream",
     "text": [
      "Warning message:\n",
      "\"package 'randomForest' was built under R version 3.6.3\"randomForest 4.6-14\n",
      "Type rfNews() to see new features/changes/bug fixes.\n",
      "\n",
      "Attaching package: 'randomForest'\n",
      "\n",
      "The following object is masked from 'package:psych':\n",
      "\n",
      "    outlier\n",
      "\n",
      "The following object is masked from 'package:ggplot2':\n",
      "\n",
      "    margin\n",
      "\n",
      "The following object is masked from 'package:dplyr':\n",
      "\n",
      "    combine\n",
      "\n"
     ]
    }
   ],
   "source": [
    "library(randomForest)\n",
    "output.forest <- randomForest(placement.PlacedOrNot ~ CGPA + Internships + HistoryOfBacklogs+\n",
    "                      + Age  + Hostel,\n",
    "           data = train_reg)"
   ]
  },
  {
   "cell_type": "markdown",
   "id": "cd71e022",
   "metadata": {},
   "source": [
    "The residual sum of squares (RSS) is a statistical technique used to measure the amount of variance in a data set that is not explained by a regression model itself. Instead, it estimates the variance in the residuals, or error term."
   ]
  },
  {
   "cell_type": "code",
   "execution_count": 42,
   "id": "8f5a8df0",
   "metadata": {},
   "outputs": [
    {
     "data": {
      "text/plain": [
       "\n",
       "Call:\n",
       " randomForest(formula = placement.PlacedOrNot ~ CGPA + Internships +      HistoryOfBacklogs + +Age + Hostel, data = train_reg) \n",
       "               Type of random forest: classification\n",
       "                     Number of trees: 500\n",
       "No. of variables tried at each split: 2\n",
       "\n",
       "        OOB estimate of  error rate: 11.31%\n",
       "Confusion matrix:\n",
       "     0    1 class.error\n",
       "0 1021   25  0.02390057\n",
       "1  236 1025  0.18715305"
      ]
     },
     "metadata": {},
     "output_type": "display_data"
    }
   ],
   "source": [
    "output.forest"
   ]
  },
  {
   "cell_type": "markdown",
   "id": "79278369",
   "metadata": {},
   "source": [
    "# CO5: Implementing case study in R : Describe the scenario taken for analysis \n",
    "Our objective in this analysis is to know the prediction of getting placed or not depending on the various independent attributes like CGPA, Internships taken, No of backlogs etc. "
   ]
  },
  {
   "cell_type": "code",
   "execution_count": 43,
   "id": "06f8f3e7",
   "metadata": {},
   "outputs": [
    {
     "data": {
      "text/html": [
       "<dl class=dl-horizontal>\n",
       "\t<dt>2</dt>\n",
       "\t\t<dd>0.297374345342966</dd>\n",
       "\t<dt>9</dt>\n",
       "\t\t<dd>0.311542327557009</dd>\n",
       "\t<dt>11</dt>\n",
       "\t\t<dd>0.665740528929916</dd>\n",
       "\t<dt>18</dt>\n",
       "\t\t<dd>0.0833471874097268</dd>\n",
       "\t<dt>20</dt>\n",
       "\t\t<dd>0.665740528929916</dd>\n",
       "\t<dt>27</dt>\n",
       "\t\t<dd>0.934730971545305</dd>\n",
       "</dl>\n"
      ],
      "text/latex": [
       "\\begin{description*}\n",
       "\\item[2] 0.297374345342966\n",
       "\\item[9] 0.311542327557009\n",
       "\\item[11] 0.665740528929916\n",
       "\\item[18] 0.0833471874097268\n",
       "\\item[20] 0.665740528929916\n",
       "\\item[27] 0.934730971545305\n",
       "\\end{description*}\n"
      ],
      "text/markdown": [
       "2\n",
       ":   0.2973743453429669\n",
       ":   0.31154232755700911\n",
       ":   0.66574052892991618\n",
       ":   0.083347187409726820\n",
       ":   0.66574052892991627\n",
       ":   0.934730971545305\n",
       "\n"
      ],
      "text/plain": [
       "         2          9         11         18         20         27 \n",
       "0.29737435 0.31154233 0.66574053 0.08334719 0.66574053 0.93473097 "
      ]
     },
     "metadata": {},
     "output_type": "display_data"
    }
   ],
   "source": [
    "#  Predict test data based on model\n",
    "predict_reg <- predict(logistic_model, \n",
    "               as.data.frame(subset(test_reg, select = c(CGPA, Internships, HistoryOfBacklogs,Age, Hostel) )), type = \"response\")\n",
    " head(predict_reg)"
   ]
  },
  {
   "cell_type": "markdown",
   "id": "b8209a03",
   "metadata": {},
   "source": [
    " Conversion of probability outputs into 0s or 1s for better \n",
    " summary of prediction "
   ]
  },
  {
   "cell_type": "code",
   "execution_count": 44,
   "id": "601041a1",
   "metadata": {},
   "outputs": [
    {
     "data": {
      "text/html": [
       "<dl class=dl-horizontal>\n",
       "\t<dt>2</dt>\n",
       "\t\t<dd>0</dd>\n",
       "\t<dt>9</dt>\n",
       "\t\t<dd>0</dd>\n",
       "\t<dt>11</dt>\n",
       "\t\t<dd>1</dd>\n",
       "\t<dt>18</dt>\n",
       "\t\t<dd>0</dd>\n",
       "\t<dt>20</dt>\n",
       "\t\t<dd>1</dd>\n",
       "\t<dt>27</dt>\n",
       "\t\t<dd>1</dd>\n",
       "</dl>\n"
      ],
      "text/latex": [
       "\\begin{description*}\n",
       "\\item[2] 0\n",
       "\\item[9] 0\n",
       "\\item[11] 1\n",
       "\\item[18] 0\n",
       "\\item[20] 1\n",
       "\\item[27] 1\n",
       "\\end{description*}\n"
      ],
      "text/markdown": [
       "2\n",
       ":   09\n",
       ":   011\n",
       ":   118\n",
       ":   020\n",
       ":   127\n",
       ":   1\n",
       "\n"
      ],
      "text/plain": [
       " 2  9 11 18 20 27 \n",
       " 0  0  1  0  1  1 "
      ]
     },
     "metadata": {},
     "output_type": "display_data"
    }
   ],
   "source": [
    "predict_reg = ifelse(predict_reg>=0.5,ave(predict_reg, FUN = function(x) 1),0)\n",
    "head(predict_reg)"
   ]
  },
  {
   "cell_type": "code",
   "execution_count": 45,
   "id": "968e828e",
   "metadata": {},
   "outputs": [
    {
     "data": {
      "text/html": [
       "'numeric'"
      ],
      "text/latex": [
       "'numeric'"
      ],
      "text/markdown": [
       "'numeric'"
      ],
      "text/plain": [
       "[1] \"numeric\""
      ]
     },
     "metadata": {},
     "output_type": "display_data"
    }
   ],
   "source": [
    "test_reg$placement.PlacedOrNot= as.numeric(test_reg$placement.PlacedOrNot)\n",
    "class(test_reg$placement.PlacedOrNot)"
   ]
  },
  {
   "cell_type": "markdown",
   "id": "d9a3a69c",
   "metadata": {},
   "source": [
    "The table gives an indication on a frequency table with respect to the predicted data whose diagonal sum gives us the accuracy of the model ."
   ]
  },
  {
   "cell_type": "code",
   "execution_count": 46,
   "id": "7cb289e9",
   "metadata": {},
   "outputs": [
    {
     "data": {
      "text/html": [
       "0.746585735963581"
      ],
      "text/latex": [
       "0.746585735963581"
      ],
      "text/markdown": [
       "0.746585735963581"
      ],
      "text/plain": [
       "[1] 0.7465857"
      ]
     },
     "metadata": {},
     "output_type": "display_data"
    }
   ],
   "source": [
    "score_table <- table(predict_reg,test_reg$placement.PlacedOrNot)\n",
    "sum(diag(score_table))/sum(score_table)"
   ]
  },
  {
   "cell_type": "markdown",
   "id": "b037eba6",
   "metadata": {},
   "source": [
    "#### Correlation between attributes:"
   ]
  },
  {
   "cell_type": "markdown",
   "id": "ff8c4bd9",
   "metadata": {},
   "source": [
    "Correlation coefficients are statistics which can help to describe data sets which contain variables measured at the interval and ratio levels. \n",
    "\n",
    "Correlation is a measure of association that tests whether a relationship exists between two variables.\n",
    "\n",
    "It indicates both the strength of the association and its direction (direct or inverse). \n",
    "\n",
    "The Pearson product-moment correlation coefficient, written as r, can describe a linear relationship between two variables."
   ]
  },
  {
   "cell_type": "code",
   "execution_count": 47,
   "id": "4c76b954",
   "metadata": {},
   "outputs": [
    {
     "data": {
      "text/html": [
       "0.58864804773509"
      ],
      "text/latex": [
       "0.58864804773509"
      ],
      "text/markdown": [
       "0.58864804773509"
      ],
      "text/plain": [
       "[1] 0.588648"
      ]
     },
     "metadata": {},
     "output_type": "display_data"
    }
   ],
   "source": [
    "library(Hmisc)\n",
    "placement$PlacedOrNot = as.numeric(as.character(placement$PlacedOrNot))\n",
    "# Correlation between CGPA and PlacedOrNot\n",
    "cor(placement$CGPA,placement$PlacedOrNot)"
   ]
  },
  {
   "cell_type": "code",
   "execution_count": 48,
   "id": "b33b2981",
   "metadata": {},
   "outputs": [
    {
     "data": {
      "text/html": [
       "0.179333918121952"
      ],
      "text/latex": [
       "0.179333918121952"
      ],
      "text/markdown": [
       "0.179333918121952"
      ],
      "text/plain": [
       "[1] 0.1793339"
      ]
     },
     "metadata": {},
     "output_type": "display_data"
    }
   ],
   "source": [
    "# Correlation between Internships and PlacedOrNot\n",
    "cor(placement$Internships,placement$PlacedOrNot)"
   ]
  },
  {
   "cell_type": "code",
   "execution_count": 49,
   "id": "33cfc635",
   "metadata": {},
   "outputs": [
    {
     "data": {
      "text/html": [
       "0.0469425143661343"
      ],
      "text/latex": [
       "0.0469425143661343"
      ],
      "text/markdown": [
       "0.0469425143661343"
      ],
      "text/plain": [
       "[1] 0.04694251"
      ]
     },
     "metadata": {},
     "output_type": "display_data"
    }
   ],
   "source": [
    "# Correlation between Age and PlacedOrNot\n",
    "cor(placement$Age,placement$PlacedOrNot)"
   ]
  },
  {
   "cell_type": "code",
   "execution_count": 50,
   "id": "e4f6cb10",
   "metadata": {},
   "outputs": [
    {
     "data": {
      "text/html": [
       "-0.0223373883753504"
      ],
      "text/latex": [
       "-0.0223373883753504"
      ],
      "text/markdown": [
       "-0.0223373883753504"
      ],
      "text/plain": [
       "[1] -0.02233739"
      ]
     },
     "metadata": {},
     "output_type": "display_data"
    }
   ],
   "source": [
    "# Correlation between History of backlogs and PlacedOrNot\n",
    "placement$HistoryOfBacklogs = as.numeric(as.character(placement$HistoryOfBacklogs))\n",
    "cor(placement$HistoryOfBacklogs,placement$PlacedOrNot)"
   ]
  },
  {
   "cell_type": "code",
   "execution_count": 51,
   "id": "3736869e",
   "metadata": {},
   "outputs": [
    {
     "data": {
      "text/html": [
       "-0.0381823687882002"
      ],
      "text/latex": [
       "-0.0381823687882002"
      ],
      "text/markdown": [
       "-0.0381823687882002"
      ],
      "text/plain": [
       "[1] -0.03818237"
      ]
     },
     "metadata": {},
     "output_type": "display_data"
    }
   ],
   "source": [
    "cor(placement$Hostel,placement$PlacedOrNot)"
   ]
  },
  {
   "cell_type": "code",
   "execution_count": 52,
   "id": "e89ded3e",
   "metadata": {},
   "outputs": [
    {
     "data": {
      "text/plain": [
       "\n",
       "Call:  glm(formula = placement.PlacedOrNot ~ CGPA + Internships, family = binomial(link = \"logit\"), \n",
       "    data = train_reg)\n",
       "\n",
       "Coefficients:\n",
       "(Intercept)         CGPA  Internships  \n",
       "     0.3122       1.7918       0.5702  \n",
       "\n",
       "Degrees of Freedom: 2306 Total (i.e. Null);  2304 Residual\n",
       "Null Deviance:\t    3178 \n",
       "Residual Deviance: 2102 \tAIC: 2108"
      ]
     },
     "metadata": {},
     "output_type": "display_data"
    },
    {
     "data": {
      "text/plain": [
       "\n",
       "Call:\n",
       "glm(formula = placement.PlacedOrNot ~ CGPA + Internships, family = binomial(link = \"logit\"), \n",
       "    data = train_reg)\n",
       "\n",
       "Deviance Residuals: \n",
       "    Min       1Q   Median       3Q      Max  \n",
       "-2.0387  -0.6499   0.2644   0.6390   2.8588  \n",
       "\n",
       "Coefficients:\n",
       "            Estimate Std. Error z value Pr(>|z|)    \n",
       "(Intercept)  0.31218    0.05478   5.699 1.21e-08 ***\n",
       "CGPA         1.79179    0.07380  24.280  < 2e-16 ***\n",
       "Internships  0.57021    0.05783   9.860  < 2e-16 ***\n",
       "---\n",
       "Signif. codes:  0 '***' 0.001 '**' 0.01 '*' 0.05 '.' 0.1 ' ' 1\n",
       "\n",
       "(Dispersion parameter for binomial family taken to be 1)\n",
       "\n",
       "    Null deviance: 3178.1  on 2306  degrees of freedom\n",
       "Residual deviance: 2102.2  on 2304  degrees of freedom\n",
       "AIC: 2108.2\n",
       "\n",
       "Number of Fisher Scoring iterations: 5\n"
      ]
     },
     "metadata": {},
     "output_type": "display_data"
    }
   ],
   "source": [
    "#Training model-Rebuilding Model\n",
    "logistic_models <- glm(placement.PlacedOrNot ~ CGPA + Internships,family=binomial(link='logit'),\n",
    "                    data = train_reg)\n",
    "logistic_models\n",
    "# Summary\n",
    "summary(logistic_models)"
   ]
  },
  {
   "cell_type": "code",
   "execution_count": 53,
   "id": "114e6d8c",
   "metadata": {},
   "outputs": [
    {
     "data": {
      "text/html": [
       "<dl class=dl-horizontal>\n",
       "\t<dt>2</dt>\n",
       "\t\t<dd>0.409368076674107</dd>\n",
       "\t<dt>9</dt>\n",
       "\t\t<dd>0.336843059683044</dd>\n",
       "\t<dt>11</dt>\n",
       "\t\t<dd>0.599591863623739</dd>\n",
       "\t<dt>18</dt>\n",
       "\t\t<dd>0.0981385313632046</dd>\n",
       "\t<dt>20</dt>\n",
       "\t\t<dd>0.599591863623739</dd>\n",
       "\t<dt>27</dt>\n",
       "\t\t<dd>0.905103919568412</dd>\n",
       "</dl>\n"
      ],
      "text/latex": [
       "\\begin{description*}\n",
       "\\item[2] 0.409368076674107\n",
       "\\item[9] 0.336843059683044\n",
       "\\item[11] 0.599591863623739\n",
       "\\item[18] 0.0981385313632046\n",
       "\\item[20] 0.599591863623739\n",
       "\\item[27] 0.905103919568412\n",
       "\\end{description*}\n"
      ],
      "text/markdown": [
       "2\n",
       ":   0.4093680766741079\n",
       ":   0.33684305968304411\n",
       ":   0.59959186362373918\n",
       ":   0.098138531363204620\n",
       ":   0.59959186362373927\n",
       ":   0.905103919568412\n",
       "\n"
      ],
      "text/plain": [
       "         2          9         11         18         20         27 \n",
       "0.40936808 0.33684306 0.59959186 0.09813853 0.59959186 0.90510392 "
      ]
     },
     "metadata": {},
     "output_type": "display_data"
    }
   ],
   "source": [
    "#  Predict test data based on model\n",
    "predict_reg <- predict(logistic_models, \n",
    "               as.data.frame(subset(test_reg, select = c(CGPA, Internships) )), type = \"response\")\n",
    " head(predict_reg)"
   ]
  },
  {
   "cell_type": "markdown",
   "id": "d9bbf0bf",
   "metadata": {},
   "source": [
    "# Conclusion\n",
    "This analysis shows Explorative Data Analysis and developing a prediction model that predicts whether a student gets placed or not depending on the various independent attributes like CGPA, Internships taken, No of backlogs, etc. on the CollegePlace dataset.\n",
    "By implementing data cleaning, encoding the categorical values, and scaling the numerical values data wrangling is performed followed by which a binomial  logistic regression model is used to train and test to predict whether the student gets placement or not. \n"
   ]
  }
 ],
 "metadata": {
  "kernelspec": {
   "display_name": "R",
   "language": "R",
   "name": "ir"
  },
  "language_info": {
   "codemirror_mode": "r",
   "file_extension": ".r",
   "mimetype": "text/x-r-source",
   "name": "R",
   "pygments_lexer": "r",
   "version": "3.6.1"
  }
 },
 "nbformat": 4,
 "nbformat_minor": 5
}
